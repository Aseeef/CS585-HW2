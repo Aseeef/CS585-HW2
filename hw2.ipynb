{
 "cells": [
  {
   "cell_type": "markdown",
   "source": [
    "# CS 585 HW 1\n",
    "\n",
    "**Due:** 11:59 PM (at midnight) EST, Wednesday, February 14, 2024\n",
    "\n",
    "**Completed By:**\n",
    "* Muhammad Aseef Imran\n",
    "* Muniruddin Siddiqui"
   ],
   "metadata": {
    "collapsed": false
   }
  },
  {
   "cell_type": "code",
   "execution_count": null,
   "metadata": {
    "collapsed": true
   },
   "outputs": [],
   "source": []
  }
 ],
 "metadata": {
  "kernelspec": {
   "display_name": "Python 3",
   "language": "python",
   "name": "python3"
  },
  "language_info": {
   "codemirror_mode": {
    "name": "ipython",
    "version": 2
   },
   "file_extension": ".py",
   "mimetype": "text/x-python",
   "name": "python",
   "nbconvert_exporter": "python",
   "pygments_lexer": "ipython2",
   "version": "2.7.6"
  }
 },
 "nbformat": 4,
 "nbformat_minor": 0
}
