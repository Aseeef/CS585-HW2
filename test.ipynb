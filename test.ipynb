{
 "cells": [
  {
   "cell_type": "code",
   "execution_count": 1,
   "metadata": {},
   "outputs": [],
   "source": [
    "import numpy as np\n",
    "import math\n",
    "import cv2 as cv"
   ]
  },
  {
   "cell_type": "code",
   "execution_count": 2,
   "metadata": {},
   "outputs": [],
   "source": [
    "cap = cv.VideoCapture(0)"
   ]
  },
  {
   "cell_type": "code",
   "execution_count": 3,
   "metadata": {},
   "outputs": [],
   "source": [
    "_, img = cap.read()\n",
    "cv.rectangle(img, (300, 300), (100, 100), (0, 255, 0), 0)\n",
    "crop_img = img[100:300, 100:300]\n",
    "grey = cv.cvtColor(crop_img, cv.COLOR_BGR2GRAY)\n",
    "value = (35, 35)\n",
    "blurred_ = cv.GaussianBlur(grey, value, 0)\n",
    "_, thresholded = cv.threshold(blurred_, 127, 255, cv.THRESH_BINARY_INV + cv.THRESH_OTSU)"
   ]
  },
  {
   "cell_type": "code",
   "execution_count": 4,
   "metadata": {},
   "outputs": [
    {
     "ename": "ValueError",
     "evalue": "not enough values to unpack (expected 3, got 2)",
     "output_type": "error",
     "traceback": [
      "\u001b[1;31m---------------------------------------------------------------------------\u001b[0m",
      "\u001b[1;31mValueError\u001b[0m                                Traceback (most recent call last)",
      "Cell \u001b[1;32mIn[4], line 1\u001b[0m\n\u001b[1;32m----> 1\u001b[0m image, contours, hierarchy \u001b[38;5;241m=\u001b[39m cv\u001b[38;5;241m.\u001b[39mfindContours(thresholded\u001b[38;5;241m.\u001b[39mcopy(), cv\u001b[38;5;241m.\u001b[39mRETR_TREE, cv\u001b[38;5;241m.\u001b[39mCHAIN_APPROX_NONE)\n\u001b[0;32m      2\u001b[0m count1 \u001b[38;5;241m=\u001b[39m \u001b[38;5;28mmax\u001b[39m(contours, key\u001b[38;5;241m=\u001b[39m\u001b[38;5;28;01mlambda\u001b[39;00m x: cv\u001b[38;5;241m.\u001b[39mcontourArea(x))\n\u001b[0;32m      3\u001b[0m x, y, w, h \u001b[38;5;241m=\u001b[39m cv\u001b[38;5;241m.\u001b[39mboundingRect(count1)\n",
      "\u001b[1;31mValueError\u001b[0m: not enough values to unpack (expected 3, got 2)"
     ]
    }
   ],
   "source": [
    "image, contours, hierarchy = cv.findContours(thresholded.copy(), cv.RETR_TREE, cv.CHAIN_APPROX_NONE)\n",
    "count1 = max(contours, key=lambda x: cv.contourArea(x))\n",
    "x, y, w, h = cv.boundingRect(count1)\n",
    "cv.rectangle(crop_img, (x, y), (x + w, y + h), (0, 0, 255), 0)\n",
    "hull = cv.convexHull(count1)\n",
    "drawing = np.zeros(crop_img.shape, np.uint8)\n",
    "cv.drawContours(drawing, [count1], 0, (0, 255, 0), 0)\n",
    "cv.drawContours(drawing, [hull], 0, (0, 0, 255), 0)\n",
    "hull = cv.convexHull(count1, returnPoints=False)\n",
    "defects = cv.convexityDefects(count1, hull)"
   ]
  },
  {
   "cell_type": "code",
   "execution_count": null,
   "metadata": {},
   "outputs": [],
   "source": [
    "count_defects = 0\n",
    "cv.drawContours(thresholded, contours, -1, (0, 255, 0), 3)\n",
    "\n",
    "for i in range(defects.shape[0]):\n",
    "    s, e, f, d = defects[i, 0]\n",
    "    start = tuple(count1[s][0])\n",
    "    end = tuple(count1[e][0])\n",
    "    far = tuple(count1[f][0])\n",
    "    a = math.sqrt((end[0] - start[0]) ** 2 + (end[1] - start[1]) ** 2)\n",
    "    b = math.sqrt((far[0] - start[0]) ** 2 + (far[1] - start[1]) ** 2)\n",
    "    c = math.sqrt((end[0] - far[0]) ** 2 + (end[1] - far[1]) ** 2)\n",
    "    angle = math.acos((b ** 2 + c ** 2 - a ** 2) / (2 * b * c)) * 57\n",
    "\n",
    "    if angle <= 90:\n",
    "        count_defects += 1\n",
    "        cv.circle(crop_img, far, 1, [0, 0, 255], -1)\n",
    "\n",
    "    cv.line(crop_img, start, end, [0, 255, 0], 2)\n",
    "\n",
    "if count_defects == 1:\n",
    "    cv.putText(img, \"2 fingers\", (50, 50), cv.FONT_HERSHEY_SIMPLEX, 2, (0, 0, 255))\n",
    "elif count_defects == 2:\n",
    "    str = \"3 fingers\"\n",
    "    cv.putText(img, str, (5, 50), cv.FONT_HERSHEY_SIMPLEX, 1, (0, 0, 255))\n",
    "elif count_defects == 3:\n",
    "    cv.putText(img, \"4 fingers\", (50, 50), cv.FONT_HERSHEY_SIMPLEX, 2, (0, 0, 255))\n",
    "elif count_defects == 4:\n",
    "    cv.putText(img, \"5 fingers\", (50, 50), cv.FONT_HERSHEY_SIMPLEX, 2, (0, 0, 255))\n",
    "elif count_defects == 0:\n",
    "    cv.putText(img, \"one\", (50, 50), cv.FONT_HERSHEY_SIMPLEX, 2, (0, 0, 255))"
   ]
  },
  {
   "cell_type": "code",
   "execution_count": null,
   "metadata": {},
   "outputs": [],
   "source": [
    "cv.imshow('main window', img)\n",
    "all_img = np.hstack((drawing, crop_img))\n",
    "cv.imshow('Contours', all_img)\n",
    "k = cv.waitKey(10)"
   ]
  },
  {
   "cell_type": "code",
   "execution_count": null,
   "metadata": {},
   "outputs": [],
   "source": []
  }
 ],
 "metadata": {
  "kernelspec": {
   "display_name": "Python 3",
   "language": "python",
   "name": "python3"
  },
  "language_info": {
   "codemirror_mode": {
    "name": "ipython",
    "version": 3
   },
   "file_extension": ".py",
   "mimetype": "text/x-python",
   "name": "python",
   "nbconvert_exporter": "python",
   "pygments_lexer": "ipython3",
   "version": "3.10.7"
  }
 },
 "nbformat": 4,
 "nbformat_minor": 2
}
